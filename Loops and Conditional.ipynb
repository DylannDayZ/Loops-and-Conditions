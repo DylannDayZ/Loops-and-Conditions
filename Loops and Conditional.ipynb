{
 "cells": [
  {
   "cell_type": "code",
   "execution_count": null,
   "id": "9b37829c",
   "metadata": {},
   "outputs": [],
   "source": [
    "6.1\n",
    "6.2\n",
    "6.3\n"
   ]
  },
  {
   "cell_type": "code",
   "execution_count": null,
   "id": "a6a43308",
   "metadata": {},
   "outputs": [],
   "source": [
    "Question 4.1:"
   ]
  },
  {
   "cell_type": "code",
   "execution_count": null,
   "id": "4a075902",
   "metadata": {},
   "outputs": [],
   "source": [
    "SecretVariable = 3\n",
    "GuessVariable = 9\n",
    "\n",
    "if GuessVariable >= SecretVariable:\n",
    "    print(\"Guess too High!\")\n",
    "    \n",
    "elif GuessVariable <= SecretVariable:\n",
    "    print(\"Guess too Low!\")\n",
    "        \n",
    "else:\n",
    "    print(\"You Guessed Correctly!\")"
   ]
  },
  {
   "cell_type": "code",
   "execution_count": null,
   "id": "4cab730e",
   "metadata": {},
   "outputs": [],
   "source": [
    "QUESTION 4.2"
   ]
  },
  {
   "cell_type": "code",
   "execution_count": null,
   "id": "97dbea62",
   "metadata": {},
   "outputs": [],
   "source": [
    "small = True\n",
    "green = False\n",
    "\n",
    "if small:\n",
    "    if green:\n",
    "        print(\"This is a Pea.\")\n",
    "    else:\n",
    "        print(\"This is a Cherry.\")\n",
    "else:\n",
    "    if green:\n",
    "        print(\"This is a Watermelon.\")\n",
    "    else:\n",
    "        print(\"This could be a Pumpkin?\")"
   ]
  },
  {
   "cell_type": "code",
   "execution_count": null,
   "id": "ecf973a1",
   "metadata": {},
   "outputs": [],
   "source": [
    "QUESTION 6.1:"
   ]
  },
  {
   "cell_type": "code",
   "execution_count": 11,
   "id": "5f5bfd99",
   "metadata": {},
   "outputs": [
    {
     "name": "stdout",
     "output_type": "stream",
     "text": [
      "[3, 2, 1, 0]\n"
     ]
    }
   ],
   "source": [
    "listA = [3, 2, 1, 0]\n",
    "print(listA)"
   ]
  },
  {
   "cell_type": "code",
   "execution_count": null,
   "id": "edcbe594",
   "metadata": {},
   "outputs": [],
   "source": [
    "QUESTION 6.2:"
   ]
  },
  {
   "cell_type": "code",
   "execution_count": null,
   "id": "faddb568",
   "metadata": {},
   "outputs": [],
   "source": [
    "guess_me = 7\n",
    "\n",
    "number = 1\n",
    "\n",
    "while number <= guess_me:\n",
    "    print(\"Too Low\")\n",
    "    \n",
    "if number >= guess_me:\n",
    "    print(\"Opps\")\n",
    "    \n",
    "elif number == guess_me:\n",
    "    print(\"found it!\")"
   ]
  },
  {
   "cell_type": "code",
   "execution_count": null,
   "id": "2e59ac4b",
   "metadata": {},
   "outputs": [],
   "source": [
    "QUESTION 6.3:"
   ]
  },
  {
   "cell_type": "code",
   "execution_count": 10,
   "id": "2644e074",
   "metadata": {},
   "outputs": [
    {
     "ename": "TypeError",
     "evalue": "'<' not supported between instances of 'range' and 'int'",
     "output_type": "error",
     "traceback": [
      "\u001b[0;31m---------------------------------------------------------------------------\u001b[0m",
      "\u001b[0;31mTypeError\u001b[0m                                 Traceback (most recent call last)",
      "Cell \u001b[0;32mIn[10], line 5\u001b[0m\n\u001b[1;32m      2\u001b[0m number \u001b[38;5;241m=\u001b[39m \u001b[38;5;28mrange\u001b[39m(\u001b[38;5;241m10\u001b[39m)\n\u001b[1;32m      4\u001b[0m \u001b[38;5;28;01mfor\u001b[39;00m numnber \u001b[38;5;129;01min\u001b[39;00m \u001b[38;5;28mrange\u001b[39m(\u001b[38;5;241m10\u001b[39m):\n\u001b[0;32m----> 5\u001b[0m     \u001b[38;5;28;01mif\u001b[39;00m number \u001b[38;5;241m<\u001b[39m guess_me:\n\u001b[1;32m      6\u001b[0m         \u001b[38;5;28mprint\u001b[39m(\u001b[38;5;124m'\u001b[39m\u001b[38;5;124mToo Low\u001b[39m\u001b[38;5;124m'\u001b[39m)\n\u001b[1;32m      7\u001b[0m     \u001b[38;5;28;01mif\u001b[39;00m number \u001b[38;5;241m>\u001b[39m guess_me:\n",
      "\u001b[0;31mTypeError\u001b[0m: '<' not supported between instances of 'range' and 'int'"
     ]
    }
   ],
   "source": [
    "guess_me = 5\n",
    "number = range(10)\n",
    "\n",
    "for numnber in range(10):\n",
    "    if number < guess_me:\n",
    "        print('Too Low')\n",
    "    if number > guess_me:\n",
    "        print('opps')\n",
    "else:\n",
    "    if number == guess_me:\n",
    "        print('Found it!')\n"
   ]
  },
  {
   "cell_type": "code",
   "execution_count": null,
   "id": "84d279ce",
   "metadata": {},
   "outputs": [],
   "source": []
  }
 ],
 "metadata": {
  "kernelspec": {
   "display_name": "Python 3 (ipykernel)",
   "language": "python",
   "name": "python3"
  },
  "language_info": {
   "codemirror_mode": {
    "name": "ipython",
    "version": 3
   },
   "file_extension": ".py",
   "mimetype": "text/x-python",
   "name": "python",
   "nbconvert_exporter": "python",
   "pygments_lexer": "ipython3",
   "version": "3.11.5"
  }
 },
 "nbformat": 4,
 "nbformat_minor": 5
}
